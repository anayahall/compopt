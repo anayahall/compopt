{
 "cells": [
  {
   "cell_type": "code",
   "execution_count": 1,
   "metadata": {},
   "outputs": [
    {
     "name": "stdout",
     "output_type": "stream",
     "text": [
      "LOADING DATA\n"
     ]
    }
   ],
   "source": [
    "#chord plot\n",
    "\n",
    "\n",
    "# import modules\n",
    "import pandas as pd\n",
    "import numpy as np\n",
    "import shapely as shp\n",
    "import geopandas as gpd\n",
    "from os.path import join as opj\n",
    "import matplotlib.pyplot as plt\n",
    "import os\n",
    "import pickle\n",
    "\n",
    "\n",
    "# suppress warnings in jupyter notebook!\n",
    "import warnings\n",
    "warnings.simplefilter('ignore')\n",
    "\n",
    "def Fetch(df, key_col, key, value):\n",
    "    #counties['disposal'].loc[counties['COUNTY']=='San Diego'].values[0]\n",
    "    return df[value].loc[df[key_col]==key].values[0]\n",
    "\n",
    "# set data path\n",
    "DATA_DIR = \"/Users/anayahall/projects/compopt/data\"\n",
    "\n",
    "print(\"LOADING DATA\")\n",
    "\n",
    "# read in data\n",
    "# rangeland polygons\n",
    "rangelands = gpd.read_file(opj(DATA_DIR, \"raw/CA_FMMP_G/gl_bycounty/grazingland_county.shp\"))\n",
    "rangelands = rangelands.to_crs(epsg=4326)\n",
    "rangelands['centroid'] = rangelands['geometry'].centroid \n",
    "rl_lon, rl_lat = rangelands.centroid.x, rangelands.centroid.y\n",
    "\n",
    "\n",
    "# county polygons\n",
    "county_shape = gpd.read_file(opj(DATA_DIR, \n",
    "        \"raw/CA_Counties/CA_Counties_TIGER2016.shp\")) # OLD- raw shape\n",
    "counties_popcen = pd.read_csv(opj(DATA_DIR, \n",
    "        \"counties/CenPop2010_Mean_CO06.txt\")) # NEW - population weighted means!\n",
    "counties_popcen.rename(columns = {'LATITUDE': 'lat', \n",
    "        'LONGITUDE': 'lon', 'COUNAME': 'COUNTY'}, inplace=True)\n",
    "\n",
    "county_shape = county_shape.to_crs(epsg=4326)\n",
    "county_shape['county_centroid'] = county_shape['geometry'].centroid\n",
    "\n",
    "\n",
    "# solid waste inventory data (CLEANED)\n",
    "swis =  gpd.read_file(opj(DATA_DIR, \"clean/clean_swis.shp\"))\n",
    "\n",
    "\n",
    "# Minimize geodataframe to dataframe with just fields of interest\n",
    "swis_df = swis[['SwisNo', 'Name', 'Latitude', 'Longitude', 'cap_m3', 'AcceptedWa']]\n",
    "\n",
    "# rename lat and lon for easier plotting\n",
    "swis_df.rename(columns = {'Latitude': 'lat', 'Longitude': 'lon'}, inplace=True)\n",
    "\n",
    "# may just want foodwaste for adding to the plot\n",
    "foodwaste_facilities = swis_df[swis_df['AcceptedWa'].str.contains(\"Food\", na=False)]\n",
    "\n"
   ]
  },
  {
   "cell_type": "code",
   "execution_count": null,
   "metadata": {
    "collapsed": true
   },
   "outputs": [],
   "source": []
  }
 ],
 "metadata": {
  "kernelspec": {
   "display_name": "Python 3",
   "language": "python",
   "name": "python3"
  },
  "language_info": {
   "codemirror_mode": {
    "name": "ipython",
    "version": 3
   },
   "file_extension": ".py",
   "mimetype": "text/x-python",
   "name": "python",
   "nbconvert_exporter": "python",
   "pygments_lexer": "ipython3",
   "version": "3.6.9"
  }
 },
 "nbformat": 4,
 "nbformat_minor": 2
}
